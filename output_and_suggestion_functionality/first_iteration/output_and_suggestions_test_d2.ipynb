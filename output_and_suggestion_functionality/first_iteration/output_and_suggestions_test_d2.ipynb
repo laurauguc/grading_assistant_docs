{
 "cells": [
  {
   "cell_type": "markdown",
   "id": "242293e3",
   "metadata": {},
   "source": [
    "## Output and Suggestions Test Design 2\n",
    "\n",
    "This notebook uses the Google Generative AI (genai) model to grade an essay and suggest improvements. The output shows Gemini's revised essay, with highlighted changes and hoverable tooltips. The tooltip contains the criterion from the rubric that needs to be improved, the improvement, and reasoning for the improvement."
   ]
  },
  {
   "cell_type": "code",
   "execution_count": 1,
   "id": "b68907e5",
   "metadata": {},
   "outputs": [],
   "source": [
    "# Import Libraries\n",
    "import pathlib\n",
    "import textwrap\n",
    "import os\n",
    "import google.generativeai as genai\n",
    "from IPython.display import display, Markdown, HTML\n",
    "from dotenv import load_dotenv, find_dotenv\n",
    "import json\n",
    "import re\n"
   ]
  },
  {
   "cell_type": "code",
   "execution_count": 2,
   "id": "c31dd54a",
   "metadata": {},
   "outputs": [],
   "source": [
    "# Load environment variables\n",
    "load_dotenv(find_dotenv())\n",
    "GOOGLE_API_KEY = os.getenv('GOOGLE_API_KEY')\n",
    "\n",
    "# Configure the API client with the API key\n",
    "genai.configure(api_key=GOOGLE_API_KEY)\n"
   ]
  },
  {
   "cell_type": "code",
   "execution_count": 3,
   "id": "117f8262",
   "metadata": {},
   "outputs": [],
   "source": [
    "# Utility Functions\n",
    "\n",
    "def to_markdown(text):\n",
    "    text = text.replace('•', '  *')\n",
    "    return Markdown(textwrap.indent(text, '> ', predicate=lambda _: True))\n",
    "\n",
    "def upload_rubric(file_path):\n",
    "    if file_path is None:\n",
    "        raise ValueError(\"No rubric file path provided.\")\n",
    "    with open(file_path, 'r') as file:\n",
    "        content = file.read()\n",
    "    return content\n"
   ]
  },
  {
   "cell_type": "code",
   "execution_count": 4,
   "id": "31f5a158",
   "metadata": {},
   "outputs": [],
   "source": [
    "# Prompt Formatting and Essay Analysis\n",
    "\n",
    "def format_prompt(rubric_content, essay_text):\n",
    "    \"\"\"\n",
    "    Formats the prompt for the model to validate and grade the essay.\n",
    "    Combines the rubric content and the student essay into a single prompt for the AI model.\n",
    "    \"\"\"\n",
    "    return f\"\"\"\n",
    "    Validate the following grading rubric for formatting and appropriateness:\n",
    "\n",
    "    Grading Rubric:\n",
    "    {rubric_content}\n",
    "\n",
    "    Is the rubric formatted correctly and appropriate for grading the essay? (yes or no) Please explain why for either case. \n",
    "    If no, please stop. If yes, grade the essay.\n",
    "\n",
    "    Student Response:\n",
    "    {essay_text}\n",
    "\n",
    "    Output Format without specified weights:\n",
    "\n",
    "    ### Grading Rubric and Feedback\n",
    "    | Criterion | Score | Explanation |\n",
    "    |-----------|-------|-------------|\n",
    "    | Criterion | Score | Explanation |\n",
    "    | Criterion | Score | Explanation |\n",
    "    | Criterion | Score | Explanation |\n",
    "    | Criterion | Score | Explanation |\n",
    "    | Criterion | Score | Explanation |\n",
    "    \n",
    "    Please do not say criterion and the criterion number next to the actual criterion. Always provide an explanation.\n",
    "        \n",
    "    Please make the final score a weighted average of all the scores. If the rubric has weights in the criterion section, please take that into account. See the format below.\n",
    "    \n",
    "    Output Format without specified weights:\n",
    "\n",
    "    ### Grading Rubric and Feedback\n",
    "    | Criterion | Score | Explanation |\n",
    "    |-----------|-------|-------------|\n",
    "    | Criterion (weight) | Score | Explanation |\n",
    "    | Criterion (weight) | Score | Explanation |\n",
    "    | Criterion (weight) | Score | Explanation |\n",
    "    | Criterion (weight) | Score | Explanation |\n",
    "    | Criterion (weight) | Score | Explanation |\n",
    "\n",
    "    \n",
    "    \"\"\"\n",
    "\n",
    "def analyze_essay_with_rubric(model, rubric_content, essay_text):\n",
    "    \"\"\"\n",
    "    Sends the formatted prompt to the model for grading.\n",
    "    Uses the AI model to analyze the essay based on the provided rubric.\n",
    "    \"\"\"\n",
    "    prompt = format_prompt(rubric_content, essay_text)\n",
    "    response = model.generate_text(prompt=prompt)\n",
    "    return response.result\n"
   ]
  },
  {
   "cell_type": "code",
   "execution_count": 5,
   "id": "6f7ef937",
   "metadata": {},
   "outputs": [],
   "source": [
    "# Suggestions and Essay Rewriting\n",
    "\n",
    "def format_suggestions_and_rewrite_prompt(grading_feedback, essay_text):\n",
    "    \"\"\"\n",
    "    Formats the prompt for generating suggestions and rewriting the essay.\n",
    "    Combines the grading feedback and the original essay into a single prompt for the AI model.\n",
    "    \"\"\"\n",
    "    return f\"\"\"\n",
    "    Based on the following grading feedback, \n",
    "    \n",
    "    1. Provide suggestions for improvement\n",
    "    2. Rewrite the essay using the suggested improvements\n",
    "\n",
    "    Grading Feedback:\n",
    "    {grading_feedback}\n",
    "\n",
    "    Essay:\n",
    "    {essay_text}\n",
    "    \n",
    "\n",
    "    Take each improvement provided and identify,\n",
    "    a. the smallest chunk of the original text where it was applied\n",
    "    b. the criterion from the rubric \n",
    "    c. the reason for the suggested improvement\n",
    "    \n",
    "    \n",
    "    Provide steps a, b, and c in the following JSON format: \n",
    "    [\n",
    "        {{\"improvement\": \"improvement_1\", \"criterion_from_rubric\": \"criterion_from_rubric_1\", \"reason_for_suggestion\": \"reason_for_suggestion_1\", \"original_text\": \"original_text_1\", \"revised_text\": \"revised_text_1\"}},\n",
    "        ...\n",
    "        {{\"improvement\": \"improvement_n\", \"criterion_from_rubric\": \"criterion_from_rubric_n\", \"reason_for_suggestion\": \"reason_for_suggestion_n\", \"original_text\": \"original_text_n\", \"revised_text\": \"revised_text_n\"}}\n",
    "    ]\n",
    "    \"\"\"\n",
    "\n",
    "def generate_suggestions_and_rewrite_essay(model, grading_feedback, essay_text):\n",
    "    \"\"\"\n",
    "    Sends the formatted prompt to the model for suggestions and essay rewrite.\n",
    "    Uses the AI model to generate suggestions for improving the essay and then rewrites it based on those suggestions.\n",
    "    \"\"\"\n",
    "    prompt = format_suggestions_and_rewrite_prompt(grading_feedback, essay_text)\n",
    "    response = model.generate_text(prompt=prompt)\n",
    "    if response and response.result:\n",
    "        print(\"Full response from model:\\n\", response.result)  # Debugging statement\n",
    "        return response.result\n",
    "    else:\n",
    "        print(\"Error: No response from model\")\n",
    "        return None\n"
   ]
  },
  {
   "cell_type": "code",
   "execution_count": 6,
   "id": "9d7b7b68",
   "metadata": {},
   "outputs": [
    {
     "data": {
      "text/plain": [
       "'\\n\\ndef format_suggestions_and_rewrite_prompt(grading_feedback, essay_text):\\n    \"\"\"\\n    Formats the prompt for generating suggestions and rewriting the essay.\\n    Combines the grading feedback and the original essay into a single prompt for the AI model.\\n    \"\"\"\\n    return f\"\"\"\\n    Based on the following grading feedback, provide suggestions for improvement and rewrite the essay using the improvements.\\n\\n    Grading Feedback:\\n    {grading_feedback}\\n\\n    Essay:\\n    {essay_text}\\n\\n    Follow these steps:\\n\\n    1. Identify each improvement suggested by the grading feedback.\\n    2. For each improvement, specify the relevant criterion from the rubric.\\n    3. Explain the reason for the suggestion.\\n    4. Identify the smallest chunk of the original text where the improvement is applied.\\n    5. Rewrite the identified chunk with the improvement applied, ensuring the improvement is relevant and correctly placed.\\n    6. Ensure the output is formatted as JSON.\\n\\n    Provide the improvements in the following JSON format:\\n    [\\n        {{\\n            \"improvement\": \"improvement_1\",\\n            \"criterion_from_rubric\": \"criterion_from_rubric_1\",\\n            \"reason_for_suggestion\": \"reason_for_suggestion_1\",\\n            \"original_text\": \"original_text_1\",\\n            \"revised_text\": \"revised_text_1\"\\n        }},\\n        ...\\n        {{\\n            \"improvement\": \"improvement_n\",\\n            \"criterion_from_rubric\": \"criterion_from_rubric_n\",\\n            \"reason_for_suggestion\": \"reason_for_suggestion_n\",\\n            \"original_text\": \"original_text_n\",\\n            \"revised_text\": \"revised_text_n\"\\n        }}\\n    ]\\n    Ensure the revised text is coherent, logically placed, and improves the clarity, relevance, and accuracy of the essay. \\n    Most importantly, ensure it is the JSON format as specified above.\\n    \"\"\"\\n\\ndef generate_suggestions_and_rewrite_essay(model, grading_feedback, essay_text):\\n    \"\"\"\\n    Sends the formatted prompt to the model for suggestions and essay rewrite.\\n    Uses the AI model to generate suggestions for improving the essay and then rewrites it based on those suggestions.\\n    \"\"\"\\n    prompt = format_suggestions_and_rewrite_prompt(grading_feedback, essay_text)\\n    response = model.generate_text(prompt=prompt)\\n    if response and response.result:\\n        print(\"Full response from model:\\n\", response.result)  # Debugging statement\\n        return response.result\\n    else:\\n        print(\"Error: No response from model\")\\n        return None\\n\\n\\n'"
      ]
     },
     "execution_count": 6,
     "metadata": {},
     "output_type": "execute_result"
    }
   ],
   "source": [
    "'''\n",
    "\n",
    "def format_suggestions_and_rewrite_prompt(grading_feedback, essay_text):\n",
    "    \"\"\"\n",
    "    Formats the prompt for generating suggestions and rewriting the essay.\n",
    "    Combines the grading feedback and the original essay into a single prompt for the AI model.\n",
    "    \"\"\"\n",
    "    return f\"\"\"\n",
    "    Based on the following grading feedback, provide suggestions for improvement and rewrite the essay using the improvements.\n",
    "\n",
    "    Grading Feedback:\n",
    "    {grading_feedback}\n",
    "\n",
    "    Essay:\n",
    "    {essay_text}\n",
    "\n",
    "    Follow these steps:\n",
    "\n",
    "    1. Identify each improvement suggested by the grading feedback.\n",
    "    2. For each improvement, specify the relevant criterion from the rubric.\n",
    "    3. Explain the reason for the suggestion.\n",
    "    4. Identify the smallest chunk of the original text where the improvement is applied.\n",
    "    5. Rewrite the identified chunk with the improvement applied, ensuring the improvement is relevant and correctly placed.\n",
    "    6. Ensure the output is formatted as JSON.\n",
    "\n",
    "    Provide the improvements in the following JSON format:\n",
    "    [\n",
    "        {{\n",
    "            \"improvement\": \"improvement_1\",\n",
    "            \"criterion_from_rubric\": \"criterion_from_rubric_1\",\n",
    "            \"reason_for_suggestion\": \"reason_for_suggestion_1\",\n",
    "            \"original_text\": \"original_text_1\",\n",
    "            \"revised_text\": \"revised_text_1\"\n",
    "        }},\n",
    "        ...\n",
    "        {{\n",
    "            \"improvement\": \"improvement_n\",\n",
    "            \"criterion_from_rubric\": \"criterion_from_rubric_n\",\n",
    "            \"reason_for_suggestion\": \"reason_for_suggestion_n\",\n",
    "            \"original_text\": \"original_text_n\",\n",
    "            \"revised_text\": \"revised_text_n\"\n",
    "        }}\n",
    "    ]\n",
    "    Ensure the revised text is coherent, logically placed, and improves the clarity, relevance, and accuracy of the essay. \n",
    "    Most importantly, ensure it is the JSON format as specified above.\n",
    "    \"\"\"\n",
    "\n",
    "def generate_suggestions_and_rewrite_essay(model, grading_feedback, essay_text):\n",
    "    \"\"\"\n",
    "    Sends the formatted prompt to the model for suggestions and essay rewrite.\n",
    "    Uses the AI model to generate suggestions for improving the essay and then rewrites it based on those suggestions.\n",
    "    \"\"\"\n",
    "    prompt = format_suggestions_and_rewrite_prompt(grading_feedback, essay_text)\n",
    "    response = model.generate_text(prompt=prompt)\n",
    "    if response and response.result:\n",
    "        print(\"Full response from model:\\n\", response.result)  # Debugging statement\n",
    "        return response.result\n",
    "    else:\n",
    "        print(\"Error: No response from model\")\n",
    "        return None\n",
    "\n",
    "\n",
    "'''\n"
   ]
  },
  {
   "cell_type": "code",
   "execution_count": 7,
   "id": "ea27b508",
   "metadata": {},
   "outputs": [],
   "source": [
    "# JSON Cleaning\n",
    "\n",
    "def clean_json_string(json_string):\n",
    "    \"\"\"\n",
    "    Cleans the JSON string for parsing.\n",
    "    Removes any extraneous characters or formatting issues that may prevent JSON parsing.\n",
    "    \"\"\"\n",
    "    json_string = json_string.replace('```json', '').replace('```', '').strip()\n",
    "    json_string = re.sub(r',\\s*([}\\]])', r'\\1', json_string)  # Remove trailing commas\n",
    "    json_string = re.sub(r'\\s*}\\s*{', '},{', json_string)  # Ensure all objects are closed properly\n",
    "    if json_string.count('[') > json_string.count(']'):\n",
    "        json_string += ']'\n",
    "    if json_string.count('{') > json_string.count('}'):\n",
    "        json_string += '}'\n",
    "    return json_string\n"
   ]
  },
  {
   "cell_type": "code",
   "execution_count": 8,
   "id": "26badb59",
   "metadata": {},
   "outputs": [],
   "source": [
    "# Extract JSON Improvements\n",
    "\n",
    "def extract_json_improvements(response):\n",
    "    \"\"\"\n",
    "    Extracts and cleans JSON improvements from the model response.\n",
    "    Parses the model's response to extract improvements in JSON format and returns them along with the response without JSON.\n",
    "    \"\"\"\n",
    "    if response is None:\n",
    "        print(\"Error: No response provided for JSON extraction\")\n",
    "        return {'improvements': [], 'response_without_json': ''}\n",
    "    try:\n",
    "        # Extract the JSON part from the response\n",
    "        json_match = re.search(r'\\[\\s*\\{.*\\}\\s*\\]', response, re.DOTALL)\n",
    "        if not json_match:\n",
    "            raise ValueError(\"No valid JSON found in response.\")\n",
    "        \n",
    "        # Clean the extracted JSON string\n",
    "        cleaned_json_string = clean_json_string(json_match.group(0))\n",
    "        print(\"Cleaned JSON string:\", cleaned_json_string)\n",
    "\n",
    "        # Attempt to parse the JSON\n",
    "        improvements = json.loads(cleaned_json_string)\n",
    "        response_without_json = response.replace(json_match.group(0), '')\n",
    "        return {'improvements': improvements, 'response_without_json': response_without_json}\n",
    "    except (ValueError, json.JSONDecodeError) as e:\n",
    "        print(\"Error extracting JSON from response:\", e)\n",
    "        print(f\"Failed to decode JSON string: {response}\")\n",
    "        return {'improvements': [], 'response_without_json': response}\n",
    "\n",
    "    "
   ]
  },
  {
   "cell_type": "code",
   "execution_count": 9,
   "id": "9bd4b310",
   "metadata": {},
   "outputs": [],
   "source": [
    "def display_improvements(improvements, original_text):\n",
    "    \"\"\"\n",
    "    Displays the improvements in the original essay text with hover effects.\n",
    "    Highlights the revised text in the essay and provides a tooltip with the details of the improvement.\n",
    "    \"\"\"\n",
    "    if not improvements:\n",
    "        print(\"No improvements to display.\")\n",
    "        return\n",
    "\n",
    "    css = \"\"\"\n",
    "    <style>\n",
    "    .improvement-tooltip {\n",
    "        position: relative;\n",
    "        display: inline-block;\n",
    "        cursor: pointer;\n",
    "        background-color: yellow;\n",
    "        margin-bottom: 10px;  /* Adds space between highlighted sections */\n",
    "        padding: 5px;  /* Adds padding for better visibility */\n",
    "        border: 1px solid black;  /* Adds a border to the highlighted section */\n",
    "        border-radius: 4px;  /* Adds rounded corners */\n",
    "    }\n",
    "    .improvement-tooltip .tooltiptext {\n",
    "        visibility: hidden;\n",
    "        width: 300px;\n",
    "        background-color: white;\n",
    "        color: black;\n",
    "        text-align: left;\n",
    "        border: 1px solid #ddd;\n",
    "        padding: 10px;\n",
    "        border-radius: 6px;\n",
    "        box-shadow: 0 0 10px rgba(0, 0, 0, 0.1);\n",
    "        position: absolute;\n",
    "        z-index: 1;\n",
    "        top: 100%;\n",
    "        left: 50%;\n",
    "        margin-left: -150px;\n",
    "    }\n",
    "    .improvement-tooltip:hover .tooltiptext {\n",
    "        visibility: visible;\n",
    "    }\n",
    "    </style>\n",
    "    \"\"\"\n",
    "    \n",
    "    html_content = original_text\n",
    "    \n",
    "    for improvement in improvements:\n",
    "        original = improvement.get('original_text', '')\n",
    "        revised = improvement.get('revised_text', '')\n",
    "        improvement_text = improvement['improvement']\n",
    "        reason_for_suggestion = improvement['reason_for_suggestion']\n",
    "        criterion = improvement['criterion_from_rubric']\n",
    "        \n",
    "        tooltip_html = f\"\"\"\n",
    "        <div class=\"improvement-tooltip\">\n",
    "            {revised}\n",
    "            <span class=\"tooltiptext\">\n",
    "                <strong>Criterion:</strong> {criterion}<br>\n",
    "                <strong>Improvement:</strong> {improvement_text}<br>\n",
    "                <strong>Reason:</strong> {reason_for_suggestion}\n",
    "            </span>\n",
    "        </div>\n",
    "        \"\"\"\n",
    "        \n",
    "        if original:\n",
    "            html_content = html_content.replace(original, tooltip_html)\n",
    "        else:\n",
    "            html_content = html_content + tooltip_html\n",
    "    \n",
    "    display(HTML(css + html_content))\n"
   ]
  },
  {
   "cell_type": "code",
   "execution_count": 10,
   "id": "f695e02a",
   "metadata": {},
   "outputs": [],
   "source": [
    "# Rubric Selection\n",
    "\n",
    "def list_rubrics(rubric_folder):\n",
    "    return [f for f in os.listdir(rubric_folder) if f.endswith('.md')]\n",
    "\n",
    "def select_rubric(rubric_folder):\n",
    "    \"\"\"\n",
    "    Allows user to select a rubric from the list.\n",
    "    Lists all available rubric files in the specified folder and prompts the user to select one by entering its corresponding number.\n",
    "    \"\"\"\n",
    "    rubrics = list_rubrics(rubric_folder)\n",
    "    print(\"Available rubrics:\")\n",
    "    for idx, rubric in enumerate(rubrics, 1):\n",
    "        print(f\"{idx}. {rubric}\")\n",
    "    \n",
    "    rubric_index = int(input(\"Select a rubric by entering the corresponding number: \")) - 1\n",
    "    selected_rubric = rubrics[rubric_index]\n",
    "    return os.path.join(rubric_folder, selected_rubric)"
   ]
  },
  {
   "cell_type": "code",
   "execution_count": 11,
   "id": "b4d91d1c",
   "metadata": {},
   "outputs": [
    {
     "name": "stdout",
     "output_type": "stream",
     "text": [
      "Available rubrics:\n",
      "1. science_rubric_9_12.md\n",
      "2. writing_ela_rubric_11_12.md\n",
      "3. writing_ela_rubric_9_10.md\n",
      "4. writing_social_sciences_11_12.md\n",
      "Select a rubric by entering the corresponding number: 4\n"
     ]
    },
    {
     "data": {
      "text/markdown": [
       "> \n",
       "> # New York State Common Core Writing Standards Rubric for Social Sciences (Grades 11-12)\n",
       "> \n",
       "> | Criterion                  | 1 | 2 | 3 | 4 | 5 |\n",
       "> |----------------------------|---|---|---|---|---|\n",
       "> | **1. Argument Development** | Introduces claims with little or no clarity; minimal distinction between claims and counterclaims; lacks logical organization | Introduces claims with some clarity; some distinction between claims and counterclaims; basic organization but lacks depth | Introduces clear claims; distinguishes claims from counterclaims; logical sequence but may have minor gaps | Introduces precise and knowledgeable claims; clearly distinguishes claims from counterclaims; logically sequences with minor issues | Introduces precise, knowledgeable claims; clearly distinguishes and logically sequences claims, counterclaims, reasons, and evidence |\n",
       "> | **2. Evidence and Analysis** | Provides minimal or irrelevant evidence; weak development of claims and counterclaims; lacks consideration of audience | Provides some relevant evidence; basic development of claims and counterclaims; limited audience consideration | Provides relevant evidence and analysis; adequately develops claims and counterclaims; considers audience to some extent | Provides strong evidence and analysis; thoroughly develops claims and counterclaims; anticipates audience’s knowledge and biases | Provides the most relevant evidence and analysis; thoroughly develops claims and counterclaims with strong audience consideration |\n",
       "> | **3. Cohesion and Clarity** | Minimal use of transitions and varied syntax; weak cohesion and unclear relationships between ideas | Uses some transitions and varied syntax; some cohesion but relationships between ideas may be unclear | Uses appropriate transitions and varied syntax; clear relationships between most ideas | Uses varied syntax and transitions effectively; clear and cohesive relationships between ideas | Uses varied syntax and transitions skillfully; creates strong cohesion and clear relationships between all ideas |\n",
       "> | **4. Style and Tone** | Inconsistent or inappropriate style and tone; minimal adherence to discipline norms | Somewhat consistent style and tone; some adherence to discipline norms | Consistent style and tone; adheres to discipline norms but may have minor lapses | Maintains formal style and objective tone; adheres to discipline norms consistently | Establishes and maintains formal style and objective tone; fully adheres to discipline norms |\n",
       "> | **5. Conclusion** | Provides a weak or irrelevant conclusion; does not support the argument | Provides a basic conclusion; somewhat supports the argument | Provides a clear conclusion; supports the argument but may lack depth | Provides a strong conclusion; effectively supports the argument | Provides a compelling conclusion; thoroughly supports the argument and adds insight |\n",
       "> \n"
      ],
      "text/plain": [
       "<IPython.core.display.Markdown object>"
      ]
     },
     "metadata": {},
     "output_type": "display_data"
    }
   ],
   "source": [
    "# Define the relative path to the rubric folder from the current directory\n",
    "current_dir = os.getcwd()\n",
    "relative_rubric_folder = '../nys_common_core_derived'\n",
    "rubric_folder = os.path.join(current_dir, relative_rubric_folder)\n",
    "\n",
    "# Load the Rubric\n",
    "if not os.path.exists(rubric_folder):\n",
    "    print(f\"The directory {rubric_folder} does not exist. Creating the directory.\")\n",
    "    os.makedirs(rubric_folder)\n",
    "    print(f\"Please add rubric files in markdown format (.md) to the {rubric_folder} directory and re-run the notebook.\")\n",
    "else:\n",
    "    rubric_files = list_rubrics(rubric_folder)\n",
    "    if not rubric_files:\n",
    "        print(f\"No rubric files found in the directory {rubric_folder}. Please add rubric files in markdown format (.md) and re-run the notebook.\")\n",
    "    else:\n",
    "        rubric_file_path = select_rubric(rubric_folder)\n",
    "        if rubric_file_path:\n",
    "            rubric_content = upload_rubric(rubric_file_path)\n",
    "            display(to_markdown(rubric_content))\n"
   ]
  },
  {
   "cell_type": "code",
   "execution_count": 12,
   "id": "7ffe725d",
   "metadata": {},
   "outputs": [],
   "source": [
    "# Essay Text\n",
    "essay_text = \"\"\"\n",
    "The American Revolution, which occurred from 1775 to 1783, was a pivotal event in history that not only led to the birth of a new nation but also had profound and lasting impacts on modern American society. This essay explores the significance of the American Revolution, examining its influence on contemporary political systems, social structures, and cultural values in the United States.\n",
    "\n",
    "Firstly, the American Revolution laid the foundation for the modern American political system. The revolutionaries' fight for independence was rooted in the desire for self-governance and the rejection of tyrannical rule. This struggle culminated in the drafting of the Declaration of Independence in 1776, which articulated the fundamental principles of liberty, equality, and democracy. These principles became the cornerstone of the United States Constitution, adopted in 1787, which established a federal republic with a system of checks and balances designed to prevent the concentration of power. Today, these democratic ideals continue to shape American politics, ensuring that power is derived from the consent of the governed and that individual rights are protected.\n",
    "\n",
    "Moreover, the American Revolution had a profound impact on the social fabric of the nation. The revolution challenged existing social hierarchies and promoted the idea of equality. While the promise of equality was not immediately realized for all groups, the rhetoric of the revolution inspired subsequent movements for social justice. The abolitionist movement, which sought to end slavery, drew upon the revolutionary principles of liberty and equality. Similarly, the women's suffrage movement, which fought for women's right to vote, was influenced by the revolution's emphasis on individual rights. These movements have played a crucial role in shaping a more inclusive and equitable society, reflecting the enduring legacy of the American Revolution.\n",
    "\n",
    "Culturally, the American Revolution fostered a sense of national identity and unity. The shared struggle for independence created a collective memory and a sense of common purpose among the American people. This sense of unity was further reinforced by the creation of national symbols, such as the flag and the national anthem, which continue to evoke patriotic sentiments. Additionally, the revolution gave rise to a distinct American culture that valued individualism, self-reliance, and innovation. These cultural values have profoundly influenced various aspects of American life, including the economy, education, and popular culture, contributing to the country's dynamic and entrepreneurial spirit.\n",
    "\n",
    "In conclusion, the American Revolution was a transformative event that has had a lasting impact on modern American society. It established the foundational principles of American democracy, inspired social movements for equality, and fostered a unique national identity and culture. The legacy of the American Revolution continues to resonate in contemporary America, shaping its political systems, social structures, and cultural values. As Americans reflect on their history, the revolutionary ideals of liberty, equality, and democracy remain guiding principles for the nation's ongoing pursuit of a more just and equitable society.\n",
    "\"\"\"\n"
   ]
  },
  {
   "cell_type": "code",
   "execution_count": 13,
   "id": "1e86c724",
   "metadata": {},
   "outputs": [
    {
     "name": "stdout",
     "output_type": "stream",
     "text": [
      "Grading Feedback: Yes, the rubric is formatted correctly and appropriate for grading the essay.\n",
      "\n",
      "The rubric is clear and concise, and it provides specific criteria for evaluating the essay. The criteria are aligned with the learning objectives of the course, and they are also relevant to the essay topic. The rubric also provides a scoring scale, which makes it easy to assign a grade to the essay.\n",
      "\n",
      "Here is a grade for the essay:\n",
      "\n",
      "| Criterion | Score |\n",
      "|---|---|\n",
      "| Argument Development | 4 |\n",
      "| Evidence and Analysis | 4 |\n",
      "| Cohesion and Clarity | 4 |\n",
      "| Style and Tone | 4 |\n",
      "| Conclusion | 4 |\n",
      "| Total | 20 |\n",
      "\n",
      "The essay receives a score of 20 out of 25, which is an A-. The essay is well-written and organized, and it clearly demonstrates the student's understanding of the topic. The essay also provides strong evidence and analysis to support the student's claims.\n"
     ]
    },
    {
     "data": {
      "text/markdown": [
       "Yes, the rubric is formatted correctly and appropriate for grading the essay.\n",
       "\n",
       "The rubric is clear and concise, and it provides specific criteria for evaluating the essay. The criteria are aligned with the learning objectives of the course, and they are also relevant to the essay topic. The rubric also provides a scoring scale, which makes it easy to assign a grade to the essay.\n",
       "\n",
       "Here is a grade for the essay:\n",
       "\n",
       "| Criterion | Score |\n",
       "|---|---|\n",
       "| Argument Development | 4 |\n",
       "| Evidence and Analysis | 4 |\n",
       "| Cohesion and Clarity | 4 |\n",
       "| Style and Tone | 4 |\n",
       "| Conclusion | 4 |\n",
       "| Total | 20 |\n",
       "\n",
       "The essay receives a score of 20 out of 25, which is an A-. The essay is well-written and organized, and it clearly demonstrates the student's understanding of the topic. The essay also provides strong evidence and analysis to support the student's claims."
      ],
      "text/plain": [
       "<IPython.core.display.Markdown object>"
      ]
     },
     "metadata": {},
     "output_type": "display_data"
    }
   ],
   "source": [
    "# Validate and Grade the Essay\n",
    "grading_feedback = analyze_essay_with_rubric(genai, rubric_content, essay_text)\n",
    "print(\"Grading Feedback:\", grading_feedback)\n",
    "display(Markdown(grading_feedback))\n"
   ]
  },
  {
   "cell_type": "code",
   "execution_count": 14,
   "id": "7c85ccde",
   "metadata": {},
   "outputs": [
    {
     "name": "stdout",
     "output_type": "stream",
     "text": [
      "Full response from model:\n",
      " [\n",
      "        {\"improvement\": \"Rephrased the first sentence to make it more concise and engaging\", \"criterion_from_rubric\": \"Cohesion and Clarity\", \"reason_for_suggestion\": \"The original sentence was too long and wordy\", \"original_text\": \"The American Revolution, which occurred from 1775 to 1783, was a pivotal event in history that not only led to the birth of a new nation but also had profound and lasting impacts on modern American society\", \"revised_text\": \"The American Revolution, which took place from 1775 to 1783, was a watershed moment in history that not only led to the birth of a new nation but also had a profound and lasting impact on modern American society\"},\n",
      "        {\"improvement\": \"Added a transition sentence to connect the first and second paragraphs\", \"criterion_from_rubric\": \"Cohesion and Clarity\", \"reason_for_suggestion\": \"The two paragraphs were not clearly connected\", \"original_text\": \"Firstly, the American Revolution laid the foundation for the modern American political system\", \"revised_text\": \"Firstly, the American Revolution laid the foundation for the modern American political system. This struggle culminated in the drafting of the Declaration of Independence in 1776, which articulated the fundamental principles of liberty, equality, and democracy. These principles became the cornerstone of the United States Constitution, adopted in 1787, which established a federal republic with a system of checks and balances designed to prevent the concentration of power.\"},\n",
      "        {\"improvement\": \"Added a citation for the Declaration of Independence\", \"criterion_from_rubric\": \"Evidence and Analysis\", \"reason_for_suggestion\": \"The source of the information should be cited\", \"original_text\": \"which articulated the fundamental principles of liberty, equality, and democracy\", \"revised_text\": \"which articulated the fundamental principles of liberty, equality, and democracy (The Avalon Project, 2023).\",\n",
      "        {\"improvement\": \"Rephrased the last sentence to make it more concise and impactful\", \"criterion_from_rubric\": \"Cohesion and Clarity\", \"reason_for_suggestion\": \"The original sentence was too long and wordy\", \"original_text\": \"These movements have played a crucial role in shaping a more inclusive and equitable society, reflecting the enduring legacy of the American Revolution\", \"revised_text\": \"These movements have played a crucial role in shaping a more inclusive and equitable society, reflecting the lasting legacy of the American Revolution.\"}\n",
      "    ]\n",
      "Cleaned JSON string: [\n",
      "        {\"improvement\": \"Rephrased the first sentence to make it more concise and engaging\", \"criterion_from_rubric\": \"Cohesion and Clarity\", \"reason_for_suggestion\": \"The original sentence was too long and wordy\", \"original_text\": \"The American Revolution, which occurred from 1775 to 1783, was a pivotal event in history that not only led to the birth of a new nation but also had profound and lasting impacts on modern American society\", \"revised_text\": \"The American Revolution, which took place from 1775 to 1783, was a watershed moment in history that not only led to the birth of a new nation but also had a profound and lasting impact on modern American society\"},\n",
      "        {\"improvement\": \"Added a transition sentence to connect the first and second paragraphs\", \"criterion_from_rubric\": \"Cohesion and Clarity\", \"reason_for_suggestion\": \"The two paragraphs were not clearly connected\", \"original_text\": \"Firstly, the American Revolution laid the foundation for the modern American political system\", \"revised_text\": \"Firstly, the American Revolution laid the foundation for the modern American political system. This struggle culminated in the drafting of the Declaration of Independence in 1776, which articulated the fundamental principles of liberty, equality, and democracy. These principles became the cornerstone of the United States Constitution, adopted in 1787, which established a federal republic with a system of checks and balances designed to prevent the concentration of power.\"},\n",
      "        {\"improvement\": \"Added a citation for the Declaration of Independence\", \"criterion_from_rubric\": \"Evidence and Analysis\", \"reason_for_suggestion\": \"The source of the information should be cited\", \"original_text\": \"which articulated the fundamental principles of liberty, equality, and democracy\", \"revised_text\": \"which articulated the fundamental principles of liberty, equality, and democracy (The Avalon Project, 2023).\",\n",
      "        {\"improvement\": \"Rephrased the last sentence to make it more concise and impactful\", \"criterion_from_rubric\": \"Cohesion and Clarity\", \"reason_for_suggestion\": \"The original sentence was too long and wordy\", \"original_text\": \"These movements have played a crucial role in shaping a more inclusive and equitable society, reflecting the enduring legacy of the American Revolution\", \"revised_text\": \"These movements have played a crucial role in shaping a more inclusive and equitable society, reflecting the lasting legacy of the American Revolution.\"}\n",
      "    ]}\n",
      "Error extracting JSON from response: Expecting property name enclosed in double quotes: line 5 column 9 (char 1947)\n",
      "Failed to decode JSON string: [\n",
      "        {\"improvement\": \"Rephrased the first sentence to make it more concise and engaging\", \"criterion_from_rubric\": \"Cohesion and Clarity\", \"reason_for_suggestion\": \"The original sentence was too long and wordy\", \"original_text\": \"The American Revolution, which occurred from 1775 to 1783, was a pivotal event in history that not only led to the birth of a new nation but also had profound and lasting impacts on modern American society\", \"revised_text\": \"The American Revolution, which took place from 1775 to 1783, was a watershed moment in history that not only led to the birth of a new nation but also had a profound and lasting impact on modern American society\"},\n",
      "        {\"improvement\": \"Added a transition sentence to connect the first and second paragraphs\", \"criterion_from_rubric\": \"Cohesion and Clarity\", \"reason_for_suggestion\": \"The two paragraphs were not clearly connected\", \"original_text\": \"Firstly, the American Revolution laid the foundation for the modern American political system\", \"revised_text\": \"Firstly, the American Revolution laid the foundation for the modern American political system. This struggle culminated in the drafting of the Declaration of Independence in 1776, which articulated the fundamental principles of liberty, equality, and democracy. These principles became the cornerstone of the United States Constitution, adopted in 1787, which established a federal republic with a system of checks and balances designed to prevent the concentration of power.\"},\n",
      "        {\"improvement\": \"Added a citation for the Declaration of Independence\", \"criterion_from_rubric\": \"Evidence and Analysis\", \"reason_for_suggestion\": \"The source of the information should be cited\", \"original_text\": \"which articulated the fundamental principles of liberty, equality, and democracy\", \"revised_text\": \"which articulated the fundamental principles of liberty, equality, and democracy (The Avalon Project, 2023).\",\n",
      "        {\"improvement\": \"Rephrased the last sentence to make it more concise and impactful\", \"criterion_from_rubric\": \"Cohesion and Clarity\", \"reason_for_suggestion\": \"The original sentence was too long and wordy\", \"original_text\": \"These movements have played a crucial role in shaping a more inclusive and equitable society, reflecting the enduring legacy of the American Revolution\", \"revised_text\": \"These movements have played a crucial role in shaping a more inclusive and equitable society, reflecting the lasting legacy of the American Revolution.\"}\n",
      "    ]\n",
      "Extracted Data: {'improvements': [], 'response_without_json': '[\\n        {\"improvement\": \"Rephrased the first sentence to make it more concise and engaging\", \"criterion_from_rubric\": \"Cohesion and Clarity\", \"reason_for_suggestion\": \"The original sentence was too long and wordy\", \"original_text\": \"The American Revolution, which occurred from 1775 to 1783, was a pivotal event in history that not only led to the birth of a new nation but also had profound and lasting impacts on modern American society\", \"revised_text\": \"The American Revolution, which took place from 1775 to 1783, was a watershed moment in history that not only led to the birth of a new nation but also had a profound and lasting impact on modern American society\"},\\n        {\"improvement\": \"Added a transition sentence to connect the first and second paragraphs\", \"criterion_from_rubric\": \"Cohesion and Clarity\", \"reason_for_suggestion\": \"The two paragraphs were not clearly connected\", \"original_text\": \"Firstly, the American Revolution laid the foundation for the modern American political system\", \"revised_text\": \"Firstly, the American Revolution laid the foundation for the modern American political system. This struggle culminated in the drafting of the Declaration of Independence in 1776, which articulated the fundamental principles of liberty, equality, and democracy. These principles became the cornerstone of the United States Constitution, adopted in 1787, which established a federal republic with a system of checks and balances designed to prevent the concentration of power.\"},\\n        {\"improvement\": \"Added a citation for the Declaration of Independence\", \"criterion_from_rubric\": \"Evidence and Analysis\", \"reason_for_suggestion\": \"The source of the information should be cited\", \"original_text\": \"which articulated the fundamental principles of liberty, equality, and democracy\", \"revised_text\": \"which articulated the fundamental principles of liberty, equality, and democracy (The Avalon Project, 2023).\",\\n        {\"improvement\": \"Rephrased the last sentence to make it more concise and impactful\", \"criterion_from_rubric\": \"Cohesion and Clarity\", \"reason_for_suggestion\": \"The original sentence was too long and wordy\", \"original_text\": \"These movements have played a crucial role in shaping a more inclusive and equitable society, reflecting the enduring legacy of the American Revolution\", \"revised_text\": \"These movements have played a crucial role in shaping a more inclusive and equitable society, reflecting the lasting legacy of the American Revolution.\"}\\n    ]'}\n"
     ]
    }
   ],
   "source": [
    "# Generate Suggestions and Rewrite the Essay\n",
    "suggestions_and_rewrite = generate_suggestions_and_rewrite_essay(genai, grading_feedback, essay_text)\n",
    "extracted_data = extract_json_improvements(suggestions_and_rewrite)\n",
    "print(\"Extracted Data:\", extracted_data)\n"
   ]
  },
  {
   "cell_type": "code",
   "execution_count": 15,
   "id": "8658d9a9",
   "metadata": {},
   "outputs": [
    {
     "data": {
      "text/markdown": [
       "**Suggestions and Revised Essay:**\n",
       "\n",
       "[\n",
       "        {\"improvement\": \"Rephrased the first sentence to make it more concise and engaging\", \"criterion_from_rubric\": \"Cohesion and Clarity\", \"reason_for_suggestion\": \"The original sentence was too long and wordy\", \"original_text\": \"The American Revolution, which occurred from 1775 to 1783, was a pivotal event in history that not only led to the birth of a new nation but also had profound and lasting impacts on modern American society\", \"revised_text\": \"The American Revolution, which took place from 1775 to 1783, was a watershed moment in history that not only led to the birth of a new nation but also had a profound and lasting impact on modern American society\"},\n",
       "        {\"improvement\": \"Added a transition sentence to connect the first and second paragraphs\", \"criterion_from_rubric\": \"Cohesion and Clarity\", \"reason_for_suggestion\": \"The two paragraphs were not clearly connected\", \"original_text\": \"Firstly, the American Revolution laid the foundation for the modern American political system\", \"revised_text\": \"Firstly, the American Revolution laid the foundation for the modern American political system. This struggle culminated in the drafting of the Declaration of Independence in 1776, which articulated the fundamental principles of liberty, equality, and democracy. These principles became the cornerstone of the United States Constitution, adopted in 1787, which established a federal republic with a system of checks and balances designed to prevent the concentration of power.\"},\n",
       "        {\"improvement\": \"Added a citation for the Declaration of Independence\", \"criterion_from_rubric\": \"Evidence and Analysis\", \"reason_for_suggestion\": \"The source of the information should be cited\", \"original_text\": \"which articulated the fundamental principles of liberty, equality, and democracy\", \"revised_text\": \"which articulated the fundamental principles of liberty, equality, and democracy (The Avalon Project, 2023).\",\n",
       "        {\"improvement\": \"Rephrased the last sentence to make it more concise and impactful\", \"criterion_from_rubric\": \"Cohesion and Clarity\", \"reason_for_suggestion\": \"The original sentence was too long and wordy\", \"original_text\": \"These movements have played a crucial role in shaping a more inclusive and equitable society, reflecting the enduring legacy of the American Revolution\", \"revised_text\": \"These movements have played a crucial role in shaping a more inclusive and equitable society, reflecting the lasting legacy of the American Revolution.\"}\n",
       "    ]"
      ],
      "text/plain": [
       "<IPython.core.display.Markdown object>"
      ]
     },
     "metadata": {},
     "output_type": "display_data"
    }
   ],
   "source": [
    "# Display the Suggestions and Revised Essay\n",
    "display(Markdown(f\"**Suggestions and Revised Essay:**\\n\\n{extracted_data['response_without_json']}\"))\n"
   ]
  },
  {
   "cell_type": "code",
   "execution_count": 16,
   "id": "b41e7d41",
   "metadata": {},
   "outputs": [
    {
     "name": "stdout",
     "output_type": "stream",
     "text": [
      "No improvements to display.\n"
     ]
    }
   ],
   "source": [
    "# Display the Improvements in the New Essay with Hover Effect\n",
    "display_improvements(extracted_data['improvements'], essay_text)\n"
   ]
  }
 ],
 "metadata": {
  "kernelspec": {
   "display_name": "Python 3 (ipykernel)",
   "language": "python",
   "name": "python3"
  },
  "language_info": {
   "codemirror_mode": {
    "name": "ipython",
    "version": 3
   },
   "file_extension": ".py",
   "mimetype": "text/x-python",
   "name": "python",
   "nbconvert_exporter": "python",
   "pygments_lexer": "ipython3",
   "version": "3.11.4"
  }
 },
 "nbformat": 4,
 "nbformat_minor": 5
}

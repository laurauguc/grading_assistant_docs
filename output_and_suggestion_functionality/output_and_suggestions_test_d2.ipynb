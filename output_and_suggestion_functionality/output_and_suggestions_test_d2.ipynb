{
 "cells": [
  {
   "cell_type": "markdown",
   "id": "242293e3",
   "metadata": {},
   "source": [
    "## Output and Suggestions Test Design 2\n",
    "\n",
    "This notebook uses the Google Generative AI (genai) model to grade an essay and suggest improvements. The output shows Gemini's revised essay, with highlighted changes and hoverable tooltips. The tooltip contains the criterion from the rubric that needs to be improved, the improvement, and reasoning for the improvement."
   ]
  },
  {
   "cell_type": "code",
   "execution_count": 1,
   "id": "b68907e5",
   "metadata": {},
   "outputs": [],
   "source": [
    "# Import Libraries\n",
    "import pathlib\n",
    "import textwrap\n",
    "import os\n",
    "import google.generativeai as genai\n",
    "from IPython.display import display, Markdown, HTML\n",
    "from dotenv import load_dotenv, find_dotenv\n",
    "import json\n",
    "import re\n"
   ]
  },
  {
   "cell_type": "code",
   "execution_count": 2,
   "id": "c31dd54a",
   "metadata": {},
   "outputs": [],
   "source": [
    "# Load environment variables\n",
    "load_dotenv(find_dotenv())\n",
    "GOOGLE_API_KEY = os.getenv('GOOGLE_API_KEY')\n",
    "\n",
    "# Configure the API client with the API key\n",
    "genai.configure(api_key=GOOGLE_API_KEY)\n"
   ]
  },
  {
   "cell_type": "code",
   "execution_count": 3,
   "id": "117f8262",
   "metadata": {},
   "outputs": [],
   "source": [
    "# Utility Functions\n",
    "\n",
    "def to_markdown(text):\n",
    "    text = text.replace('•', '  *')\n",
    "    return Markdown(textwrap.indent(text, '> ', predicate=lambda _: True))\n",
    "\n",
    "def upload_rubric(file_path):\n",
    "    if file_path is None:\n",
    "        raise ValueError(\"No rubric file path provided.\")\n",
    "    with open(file_path, 'r') as file:\n",
    "        content = file.read()\n",
    "    return content\n"
   ]
  },
  {
   "cell_type": "code",
   "execution_count": 4,
   "id": "31f5a158",
   "metadata": {},
   "outputs": [],
   "source": [
    "# Prompt Formatting and Essay Analysis\n",
    "\n",
    "def format_prompt(rubric_content, essay_text):\n",
    "    \"\"\"\n",
    "    Formats the prompt for the model to validate and grade the essay.\n",
    "    Combines the rubric content and the student essay into a single prompt for the AI model.\n",
    "    \"\"\"\n",
    "    return f\"\"\"\n",
    "    Validate the following grading rubric for formatting and appropriateness:\n",
    "\n",
    "    Grading Rubric:\n",
    "    {rubric_content}\n",
    "\n",
    "    Is the rubric formatted correctly and appropriate for grading the essay? (yes or no) Please explain why for either case. \n",
    "    If no, please stop. If yes, grade the essay.\n",
    "\n",
    "    Student Response:\n",
    "    {essay_text}\n",
    "\n",
    "    Output Format:\n",
    "\n",
    "    ### Grading Rubric and Feedback\n",
    "    | Criterion | Score | Explanation |\n",
    "    |-----------|-------|-------------|\n",
    "    | Criterion | Score | Explanation |\n",
    "    | Criterion | Score | Explanation |\n",
    "    | Criterion | Score | Explanation |\n",
    "    | Criterion | Score | Explanation |\n",
    "    | Criterion | Score | Explanation |\n",
    "    \n",
    "    Please do not say criterion and the criterion number next to the actual criterion. Always provide an explanation.\n",
    "        \n",
    "    Please make the final score a weighted average of all the scores. If the rubric has weights in the criterion section, please take that into account.\n",
    "    \"\"\"\n",
    "\n",
    "def analyze_essay_with_rubric(model, rubric_content, essay_text):\n",
    "    \"\"\"\n",
    "    Sends the formatted prompt to the model for grading.\n",
    "    Uses the AI model to analyze the essay based on the provided rubric.\n",
    "    \"\"\"\n",
    "    prompt = format_prompt(rubric_content, essay_text)\n",
    "    response = model.generate_text(prompt=prompt)\n",
    "    return response.result\n"
   ]
  },
  {
   "cell_type": "code",
   "execution_count": 5,
   "id": "9d7b7b68",
   "metadata": {},
   "outputs": [],
   "source": [
    "# Suggestions and Essay Rewriting\n",
    "\n",
    "def format_suggestions_and_rewrite_prompt(grading_feedback, essay_text):\n",
    "    \"\"\"\n",
    "    Formats the prompt for generating suggestions and rewriting the essay.\n",
    "    Combines the grading feedback and the original essay into a single prompt for the AI model.\n",
    "    \"\"\"\n",
    "    return f\"\"\"\n",
    "    Based on the following grading feedback, provide suggestions for improvement and rewrite the essay using the improvements.\n",
    "\n",
    "    Grading Feedback:\n",
    "    {grading_feedback}\n",
    "\n",
    "    Essay:\n",
    "    {essay_text}\n",
    "\n",
    "    Take each improvement provided and identify the smallest chunk of the original text where it was applied, and the part of the rubric.\n",
    "    Provide the improvements in the following JSON format: \n",
    "    [\n",
    "        {{\"improvement\": \"improvement_1\", \"criterion_from_rubric\": \"criterion_from_rubric_1\", \"reason_for_suggestion\": \"reason_for_suggestion_1\", \"original_text\": \"original_text_1\", \"revised_text\": \"revised_text_1\"}},\n",
    "        ...\n",
    "        {{\"improvement\": \"improvement_n\", \"criterion_from_rubric\": \"criterion_from_rubric_n\", \"reason_for_suggestion\": \"reason_for_suggestion_n\", \"original_text\": \"original_text_n\", \"revised_text\": \"revised_text_n\"}}\n",
    "    ]\n",
    "    \"\"\"\n",
    "\n",
    "def generate_suggestions_and_rewrite_essay(model, grading_feedback, essay_text):\n",
    "    \"\"\"\n",
    "    Sends the formatted prompt to the model for suggestions and essay rewrite.\n",
    "    Uses the AI model to generate suggestions for improving the essay and then rewrites it based on those suggestions.\n",
    "    \"\"\"\n",
    "    prompt = format_suggestions_and_rewrite_prompt(grading_feedback, essay_text)\n",
    "    response = model.generate_text(prompt=prompt)\n",
    "    if response and response.result:\n",
    "        print(\"Full response from model:\\n\", response.result)  # Debugging statement\n",
    "        return response.result\n",
    "    else:\n",
    "        print(\"Error: No response from model\")\n",
    "        return None\n"
   ]
  },
  {
   "cell_type": "code",
   "execution_count": 6,
   "id": "ea27b508",
   "metadata": {},
   "outputs": [],
   "source": [
    "# JSON Cleaning\n",
    "\n",
    "def clean_json_string(json_string):\n",
    "    \"\"\"\n",
    "    Cleans the JSON string for parsing.\n",
    "    Removes any extraneous characters or formatting issues that may prevent JSON parsing.\n",
    "    \"\"\"\n",
    "    json_string = json_string.replace('```json', '').replace('```', '').strip()\n",
    "    json_string = re.sub(r',\\s*([}\\]])', r'\\1', json_string)  # Remove trailing commas\n",
    "    json_string = re.sub(r'\\s*}\\s*{', '},{', json_string)  # Ensure all objects are closed properly\n",
    "    if json_string.count('[') > json_string.count(']'):\n",
    "        json_string += ']'\n",
    "    if json_string.count('{') > json_string.count('}'):\n",
    "        json_string += '}'\n",
    "    return json_string\n"
   ]
  },
  {
   "cell_type": "code",
   "execution_count": 7,
   "id": "26badb59",
   "metadata": {},
   "outputs": [],
   "source": [
    "# Extract JSON Improvements\n",
    "\n",
    "def extract_json_improvements(response):\n",
    "    \"\"\"\n",
    "    Extracts and cleans JSON improvements from the model response.\n",
    "    Parses the model's response to extract improvements in JSON format and returns them along with the response without JSON.\n",
    "    \"\"\"\n",
    "    if response is None:\n",
    "        print(\"Error: No response provided for JSON extraction\")\n",
    "        return {'improvements': [], 'response_without_json': ''}\n",
    "    try:\n",
    "        json_match = re.search(r'\\[\\s*\\{.*\\}\\s*\\]', response, re.DOTALL)\n",
    "        if not json_match:\n",
    "            raise ValueError(\"No valid JSON found in response.\")\n",
    "        \n",
    "        cleaned_json_string = clean_json_string(json_match.group(0))\n",
    "        print(\"Cleaned JSON string:\", cleaned_json_string)\n",
    "\n",
    "        improvements = json.loads(cleaned_json_string)\n",
    "        response_without_json = response.replace(json_match.group(0), '')\n",
    "        return {'improvements': improvements, 'response_without_json': response_without_json}\n",
    "    except (ValueError, json.JSONDecodeError) as e:\n",
    "        print(\"Error extracting JSON from response:\", e)\n",
    "        print(f\"Failed to decode JSON string: {response}\")\n",
    "        return {'improvements': [], 'response_without_json': response}\n",
    "    "
   ]
  },
  {
   "cell_type": "code",
   "execution_count": 8,
   "id": "9bd4b310",
   "metadata": {},
   "outputs": [],
   "source": [
    "# Display Improvements\n",
    "\n",
    "def display_improvements(improvements, original_text):\n",
    "    \"\"\"\n",
    "    Displays the improvements in the original essay text with hover effects.\n",
    "    Highlights the revised text in the essay and provides a tooltip with the details of the improvement.\n",
    "    \"\"\"\n",
    "    if not improvements:\n",
    "        print(\"No improvements to display.\")\n",
    "        return\n",
    "\n",
    "    css = \"\"\"\n",
    "    <style>\n",
    "    .improvement-tooltip {\n",
    "        position: relative;\n",
    "        display: inline-block;\n",
    "        cursor: pointer;\n",
    "        background-color: yellow;\n",
    "    }\n",
    "    .improvement-tooltip .tooltiptext {\n",
    "        visibility: hidden;\n",
    "        width: 300px;\n",
    "        background-color: white;\n",
    "        color: black;\n",
    "        text-align: left;\n",
    "        border: 1px solid #ddd;\n",
    "        padding: 10px;\n",
    "        border-radius: 6px;\n",
    "        box-shadow: 0 0 10px rgba(0, 0, 0, 0.1);\n",
    "        position: absolute;\n",
    "        z-index: 1;\n",
    "        top: 100%;\n",
    "        left: 50%;\n",
    "        margin-left: -150px;\n",
    "    }\n",
    "    .improvement-tooltip:hover .tooltiptext {\n",
    "        visibility: visible;\n",
    "    }\n",
    "    </style>\n",
    "    \"\"\"\n",
    "    \n",
    "    html_content = original_text\n",
    "    \n",
    "    for improvement in improvements:\n",
    "        original = improvement.get('original_text', '')\n",
    "        revised = improvement.get('revised_text', '')\n",
    "        improvement_text = improvement['improvement']\n",
    "        reason_for_suggestion = improvement['reason_for_suggestion']\n",
    "        criterion = improvement['criterion_from_rubric']\n",
    "        \n",
    "        tooltip_html = f\"\"\"\n",
    "        <span class=\"improvement-tooltip\">\n",
    "            {revised}\n",
    "            <span class=\"tooltiptext\">\n",
    "                <strong>Criterion:</strong> {criterion}<br>\n",
    "                <strong>Improvement:</strong> {improvement_text}<br>\n",
    "                <strong>Reason:</strong> {reason_for_suggestion}\n",
    "            </span>\n",
    "        </span>\n",
    "        \"\"\"\n",
    "        \n",
    "        if original:\n",
    "            html_content = html_content.replace(original, tooltip_html)\n",
    "        else:\n",
    "            html_content = html_content + tooltip_html\n",
    "    \n",
    "    display(HTML(css + html_content))\n"
   ]
  },
  {
   "cell_type": "code",
   "execution_count": 9,
   "id": "f695e02a",
   "metadata": {},
   "outputs": [],
   "source": [
    "# Rubric Selection\n",
    "\n",
    "def list_rubrics(rubric_folder):\n",
    "    return [f for f in os.listdir(rubric_folder) if f.endswith('.md')]\n",
    "\n",
    "def select_rubric(rubric_folder):\n",
    "    \"\"\"\n",
    "    Allows user to select a rubric from the list.\n",
    "    Lists all available rubric files in the specified folder and prompts the user to select one by entering its corresponding number.\n",
    "    \"\"\"\n",
    "    rubrics = list_rubrics(rubric_folder)\n",
    "    print(\"Available rubrics:\")\n",
    "    for idx, rubric in enumerate(rubrics, 1):\n",
    "        print(f\"{idx}. {rubric}\")\n",
    "    \n",
    "    rubric_index = int(input(\"Select a rubric by entering the corresponding number: \")) - 1\n",
    "    selected_rubric = rubrics[rubric_index]\n",
    "    return os.path.join(rubric_folder, selected_rubric)"
   ]
  },
  {
   "cell_type": "code",
   "execution_count": 10,
   "id": "b4d91d1c",
   "metadata": {},
   "outputs": [
    {
     "name": "stdout",
     "output_type": "stream",
     "text": [
      "Available rubrics:\n",
      "1. science_rubric_9_12.md\n",
      "2. writing_ela_rubric_11_12.md\n",
      "3. writing_ela_rubric_9_10.md\n",
      "4. writing_social_sciences_11_12.md\n",
      "Select a rubric by entering the corresponding number: 4\n"
     ]
    },
    {
     "data": {
      "text/markdown": [
       "> \n",
       "> # New York State Common Core Writing Standards Rubric for Social Sciences (Grades 11-12)\n",
       "> \n",
       "> | Criterion                  | 1 | 2 | 3 | 4 | 5 |\n",
       "> |----------------------------|---|---|---|---|---|\n",
       "> | **1. Argument Development** | Introduces claims with little or no clarity; minimal distinction between claims and counterclaims; lacks logical organization | Introduces claims with some clarity; some distinction between claims and counterclaims; basic organization but lacks depth | Introduces clear claims; distinguishes claims from counterclaims; logical sequence but may have minor gaps | Introduces precise and knowledgeable claims; clearly distinguishes claims from counterclaims; logically sequences with minor issues | Introduces precise, knowledgeable claims; clearly distinguishes and logically sequences claims, counterclaims, reasons, and evidence |\n",
       "> | **2. Evidence and Analysis** | Provides minimal or irrelevant evidence; weak development of claims and counterclaims; lacks consideration of audience | Provides some relevant evidence; basic development of claims and counterclaims; limited audience consideration | Provides relevant evidence and analysis; adequately develops claims and counterclaims; considers audience to some extent | Provides strong evidence and analysis; thoroughly develops claims and counterclaims; anticipates audience’s knowledge and biases | Provides the most relevant evidence and analysis; thoroughly develops claims and counterclaims with strong audience consideration |\n",
       "> | **3. Cohesion and Clarity** | Minimal use of transitions and varied syntax; weak cohesion and unclear relationships between ideas | Uses some transitions and varied syntax; some cohesion but relationships between ideas may be unclear | Uses appropriate transitions and varied syntax; clear relationships between most ideas | Uses varied syntax and transitions effectively; clear and cohesive relationships between ideas | Uses varied syntax and transitions skillfully; creates strong cohesion and clear relationships between all ideas |\n",
       "> | **4. Style and Tone** | Inconsistent or inappropriate style and tone; minimal adherence to discipline norms | Somewhat consistent style and tone; some adherence to discipline norms | Consistent style and tone; adheres to discipline norms but may have minor lapses | Maintains formal style and objective tone; adheres to discipline norms consistently | Establishes and maintains formal style and objective tone; fully adheres to discipline norms |\n",
       "> | **5. Conclusion** | Provides a weak or irrelevant conclusion; does not support the argument | Provides a basic conclusion; somewhat supports the argument | Provides a clear conclusion; supports the argument but may lack depth | Provides a strong conclusion; effectively supports the argument | Provides a compelling conclusion; thoroughly supports the argument and adds insight |\n",
       "> \n"
      ],
      "text/plain": [
       "<IPython.core.display.Markdown object>"
      ]
     },
     "metadata": {},
     "output_type": "display_data"
    }
   ],
   "source": [
    "# Define the relative path to the rubric folder from the current directory\n",
    "current_dir = os.getcwd()\n",
    "relative_rubric_folder = '../nys_common_core_derived'\n",
    "rubric_folder = os.path.join(current_dir, relative_rubric_folder)\n",
    "\n",
    "# Load the Rubric\n",
    "if not os.path.exists(rubric_folder):\n",
    "    print(f\"The directory {rubric_folder} does not exist. Creating the directory.\")\n",
    "    os.makedirs(rubric_folder)\n",
    "    print(f\"Please add rubric files in markdown format (.md) to the {rubric_folder} directory and re-run the notebook.\")\n",
    "else:\n",
    "    rubric_files = list_rubrics(rubric_folder)\n",
    "    if not rubric_files:\n",
    "        print(f\"No rubric files found in the directory {rubric_folder}. Please add rubric files in markdown format (.md) and re-run the notebook.\")\n",
    "    else:\n",
    "        rubric_file_path = select_rubric(rubric_folder)\n",
    "        if rubric_file_path:\n",
    "            rubric_content = upload_rubric(rubric_file_path)\n",
    "            display(to_markdown(rubric_content))\n"
   ]
  },
  {
   "cell_type": "code",
   "execution_count": 11,
   "id": "7ffe725d",
   "metadata": {},
   "outputs": [],
   "source": [
    "# Essay Text\n",
    "essay_text = \"\"\"\n",
    "The American Revolution, which occurred from 1775 to 1783, was a pivotal event in history that not only led to the birth of a new nation but also had profound and lasting impacts on modern American society. This essay explores the significance of the American Revolution, examining its influence on contemporary political systems, social structures, and cultural values in the United States.\n",
    "\n",
    "Firstly, the American Revolution laid the foundation for the modern American political system. The revolutionaries' fight for independence was rooted in the desire for self-governance and the rejection of tyrannical rule. This struggle culminated in the drafting of the Declaration of Independence in 1776, which articulated the fundamental principles of liberty, equality, and democracy. These principles became the cornerstone of the United States Constitution, adopted in 1787, which established a federal republic with a system of checks and balances designed to prevent the concentration of power. Today, these democratic ideals continue to shape American politics, ensuring that power is derived from the consent of the governed and that individual rights are protected.\n",
    "\n",
    "Moreover, the American Revolution had a profound impact on the social fabric of the nation. The revolution challenged existing social hierarchies and promoted the idea of equality. While the promise of equality was not immediately realized for all groups, the rhetoric of the revolution inspired subsequent movements for social justice. The abolitionist movement, which sought to end slavery, drew upon the revolutionary principles of liberty and equality. Similarly, the women's suffrage movement, which fought for women's right to vote, was influenced by the revolution's emphasis on individual rights. These movements have played a crucial role in shaping a more inclusive and equitable society, reflecting the enduring legacy of the American Revolution.\n",
    "\n",
    "Culturally, the American Revolution fostered a sense of national identity and unity. The shared struggle for independence created a collective memory and a sense of common purpose among the American people. This sense of unity was further reinforced by the creation of national symbols, such as the flag and the national anthem, which continue to evoke patriotic sentiments. Additionally, the revolution gave rise to a distinct American culture that valued individualism, self-reliance, and innovation. These cultural values have profoundly influenced various aspects of American life, including the economy, education, and popular culture, contributing to the country's dynamic and entrepreneurial spirit.\n",
    "\n",
    "In conclusion, the American Revolution was a transformative event that has had a lasting impact on modern American society. It established the foundational principles of American democracy, inspired social movements for equality, and fostered a unique national identity and culture. The legacy of the American Revolution continues to resonate in contemporary America, shaping its political systems, social structures, and cultural values. As Americans reflect on their history, the revolutionary ideals of liberty, equality, and democracy remain guiding principles for the nation's ongoing pursuit of a more just and equitable society.\n",
    "\"\"\"\n"
   ]
  },
  {
   "cell_type": "code",
   "execution_count": 12,
   "id": "1e86c724",
   "metadata": {},
   "outputs": [
    {
     "name": "stdout",
     "output_type": "stream",
     "text": [
      "Grading Feedback: **Grading Rubric and Feedback**\n",
      "\n",
      "| Criterion | Score | Explanation |\n",
      "|---|---|---|\n",
      "| Argument Development | 4 | Introduces clear claims; distinguishes claims from counterclaims; logical sequence with minor issues |\n",
      "| Evidence and Analysis | 4 | Provides relevant evidence and analysis; adequately develops claims and counterclaims; considers audience to some extent |\n",
      "| Cohesion and Clarity | 4 | Uses appropriate transitions and varied syntax; clear relationships between most ideas |\n",
      "| Style and Tone | 4 | Maintains formal style and objective tone; adheres to discipline norms consistently |\n",
      "| Conclusion | 4 | Provides a clear conclusion; supports the argument but may lack depth |\n",
      "| **Final Score** | 4.0 |\n",
      "\n",
      "The essay is well-written and demonstrates a strong understanding of the topic. The author clearly introduces the claims and counterclaims, provides relevant evidence and analysis, and maintains a formal style and tone. The essay could be improved by providing more depth in the conclusion.\n"
     ]
    },
    {
     "data": {
      "text/markdown": [
       "**Grading Rubric and Feedback**\n",
       "\n",
       "| Criterion | Score | Explanation |\n",
       "|---|---|---|\n",
       "| Argument Development | 4 | Introduces clear claims; distinguishes claims from counterclaims; logical sequence with minor issues |\n",
       "| Evidence and Analysis | 4 | Provides relevant evidence and analysis; adequately develops claims and counterclaims; considers audience to some extent |\n",
       "| Cohesion and Clarity | 4 | Uses appropriate transitions and varied syntax; clear relationships between most ideas |\n",
       "| Style and Tone | 4 | Maintains formal style and objective tone; adheres to discipline norms consistently |\n",
       "| Conclusion | 4 | Provides a clear conclusion; supports the argument but may lack depth |\n",
       "| **Final Score** | 4.0 |\n",
       "\n",
       "The essay is well-written and demonstrates a strong understanding of the topic. The author clearly introduces the claims and counterclaims, provides relevant evidence and analysis, and maintains a formal style and tone. The essay could be improved by providing more depth in the conclusion."
      ],
      "text/plain": [
       "<IPython.core.display.Markdown object>"
      ]
     },
     "metadata": {},
     "output_type": "display_data"
    }
   ],
   "source": [
    "# Validate and Grade the Essay\n",
    "grading_feedback = analyze_essay_with_rubric(genai, rubric_content, essay_text)\n",
    "print(\"Grading Feedback:\", grading_feedback)\n",
    "display(Markdown(grading_feedback))\n"
   ]
  },
  {
   "cell_type": "code",
   "execution_count": 13,
   "id": "7c85ccde",
   "metadata": {},
   "outputs": [
    {
     "name": "stdout",
     "output_type": "stream",
     "text": [
      "Full response from model:\n",
      " [\n",
      "        {\"improvement\": \"Add a clear thesis statement\", \"criterion_from_rubric\": \"Argument Development\", \"reason_for_suggestion\": \"The essay lacks a clear thesis statement that introduces the main argument.\", \"original_text\": \"\", \"revised_text\": \"The American Revolution had a profound and lasting impact on modern American society, shaping its political systems, social structures, and cultural values.\"},\n",
      "        {\"improvement\": \"Provide more evidence and analysis\", \"criterion_from_rubric\": \"Evidence and Analysis\", \"reason_for_suggestion\": \"The essay provides some evidence and analysis, but it could be more extensive.\", \"original_text\": \"The revolutionaries' fight for independence was rooted in the desire for self-governance and the rejection of tyrannical rule.\", \"revised_text\": \"The revolutionaries' fight for independence was rooted in the desire for self-governance and the rejection of tyrannical rule. This struggle culminated in the drafting of the Declaration of Independence in 1776, which articulated the fundamental principles of liberty, equality, and democracy. These principles became the cornerstone of the United States Constitution, adopted in 1787, which established a federal republic with a system of checks and balances designed to prevent the concentration of power.\"},\n",
      "        {\"improvement\": \"Use more varied sentence structure\", \"criterion_from_rubric\": \"Cohesion and Clarity\", \"reason_for_suggestion\": \"The essay uses mostly simple sentences, which can make it repetitive.\", \"original_text\": \"The American Revolution had a profound impact on the social fabric of the nation.\", \"revised_text\": \"The American Revolution had a profound impact on the social fabric of the nation, challenging existing social hierarchies and promoting the idea of equality. While the promise of equality was not immediately realized for all groups, the rhetoric of the revolution inspired subsequent movements for social justice.\"},\n",
      "        {\"improvement\": \"Add more depth to the conclusion\", \"criterion_from_rubric\": \"Conclusion\", \"reason_for_suggestion\": \"The conclusion is brief and could be more developed.\", \"original_text\": \"In conclusion, the American Revolution was a transformative event that has had a lasting impact on modern American society.\", \"revised_text\": \"In conclusion, the American Revolution was a transformative event that has had a lasting impact on modern American society. It established the foundational principles of American democracy, inspired social movements for equality, and fostered a unique national identity and culture. The legacy of the American Revolution continues to resonate in contemporary America, shaping its political systems, social structures, and cultural values. As Americans reflect on their history, the revolutionary ideals of liberty, equality, and democracy remain guiding principles for the nation's ongoing pursuit of a more just and equitable society.\"}\n",
      "    ]\n",
      "Cleaned JSON string: [\n",
      "        {\"improvement\": \"Add a clear thesis statement\", \"criterion_from_rubric\": \"Argument Development\", \"reason_for_suggestion\": \"The essay lacks a clear thesis statement that introduces the main argument.\", \"original_text\": \"\", \"revised_text\": \"The American Revolution had a profound and lasting impact on modern American society, shaping its political systems, social structures, and cultural values.\"},\n",
      "        {\"improvement\": \"Provide more evidence and analysis\", \"criterion_from_rubric\": \"Evidence and Analysis\", \"reason_for_suggestion\": \"The essay provides some evidence and analysis, but it could be more extensive.\", \"original_text\": \"The revolutionaries' fight for independence was rooted in the desire for self-governance and the rejection of tyrannical rule.\", \"revised_text\": \"The revolutionaries' fight for independence was rooted in the desire for self-governance and the rejection of tyrannical rule. This struggle culminated in the drafting of the Declaration of Independence in 1776, which articulated the fundamental principles of liberty, equality, and democracy. These principles became the cornerstone of the United States Constitution, adopted in 1787, which established a federal republic with a system of checks and balances designed to prevent the concentration of power.\"},\n",
      "        {\"improvement\": \"Use more varied sentence structure\", \"criterion_from_rubric\": \"Cohesion and Clarity\", \"reason_for_suggestion\": \"The essay uses mostly simple sentences, which can make it repetitive.\", \"original_text\": \"The American Revolution had a profound impact on the social fabric of the nation.\", \"revised_text\": \"The American Revolution had a profound impact on the social fabric of the nation, challenging existing social hierarchies and promoting the idea of equality. While the promise of equality was not immediately realized for all groups, the rhetoric of the revolution inspired subsequent movements for social justice.\"},\n",
      "        {\"improvement\": \"Add more depth to the conclusion\", \"criterion_from_rubric\": \"Conclusion\", \"reason_for_suggestion\": \"The conclusion is brief and could be more developed.\", \"original_text\": \"In conclusion, the American Revolution was a transformative event that has had a lasting impact on modern American society.\", \"revised_text\": \"In conclusion, the American Revolution was a transformative event that has had a lasting impact on modern American society. It established the foundational principles of American democracy, inspired social movements for equality, and fostered a unique national identity and culture. The legacy of the American Revolution continues to resonate in contemporary America, shaping its political systems, social structures, and cultural values. As Americans reflect on their history, the revolutionary ideals of liberty, equality, and democracy remain guiding principles for the nation's ongoing pursuit of a more just and equitable society.\"}\n",
      "    ]\n",
      "Extracted Data: {'improvements': [{'improvement': 'Add a clear thesis statement', 'criterion_from_rubric': 'Argument Development', 'reason_for_suggestion': 'The essay lacks a clear thesis statement that introduces the main argument.', 'original_text': '', 'revised_text': 'The American Revolution had a profound and lasting impact on modern American society, shaping its political systems, social structures, and cultural values.'}, {'improvement': 'Provide more evidence and analysis', 'criterion_from_rubric': 'Evidence and Analysis', 'reason_for_suggestion': 'The essay provides some evidence and analysis, but it could be more extensive.', 'original_text': \"The revolutionaries' fight for independence was rooted in the desire for self-governance and the rejection of tyrannical rule.\", 'revised_text': \"The revolutionaries' fight for independence was rooted in the desire for self-governance and the rejection of tyrannical rule. This struggle culminated in the drafting of the Declaration of Independence in 1776, which articulated the fundamental principles of liberty, equality, and democracy. These principles became the cornerstone of the United States Constitution, adopted in 1787, which established a federal republic with a system of checks and balances designed to prevent the concentration of power.\"}, {'improvement': 'Use more varied sentence structure', 'criterion_from_rubric': 'Cohesion and Clarity', 'reason_for_suggestion': 'The essay uses mostly simple sentences, which can make it repetitive.', 'original_text': 'The American Revolution had a profound impact on the social fabric of the nation.', 'revised_text': 'The American Revolution had a profound impact on the social fabric of the nation, challenging existing social hierarchies and promoting the idea of equality. While the promise of equality was not immediately realized for all groups, the rhetoric of the revolution inspired subsequent movements for social justice.'}, {'improvement': 'Add more depth to the conclusion', 'criterion_from_rubric': 'Conclusion', 'reason_for_suggestion': 'The conclusion is brief and could be more developed.', 'original_text': 'In conclusion, the American Revolution was a transformative event that has had a lasting impact on modern American society.', 'revised_text': \"In conclusion, the American Revolution was a transformative event that has had a lasting impact on modern American society. It established the foundational principles of American democracy, inspired social movements for equality, and fostered a unique national identity and culture. The legacy of the American Revolution continues to resonate in contemporary America, shaping its political systems, social structures, and cultural values. As Americans reflect on their history, the revolutionary ideals of liberty, equality, and democracy remain guiding principles for the nation's ongoing pursuit of a more just and equitable society.\"}], 'response_without_json': ''}\n"
     ]
    }
   ],
   "source": [
    "# Generate Suggestions and Rewrite the Essay\n",
    "suggestions_and_rewrite = generate_suggestions_and_rewrite_essay(genai, grading_feedback, essay_text)\n",
    "extracted_data = extract_json_improvements(suggestions_and_rewrite)\n",
    "print(\"Extracted Data:\", extracted_data)\n"
   ]
  },
  {
   "cell_type": "code",
   "execution_count": 14,
   "id": "8658d9a9",
   "metadata": {},
   "outputs": [
    {
     "data": {
      "text/markdown": [
       "**Suggestions and Revised Essay:**\n",
       "\n"
      ],
      "text/plain": [
       "<IPython.core.display.Markdown object>"
      ]
     },
     "metadata": {},
     "output_type": "display_data"
    }
   ],
   "source": [
    "# Display the Suggestions and Revised Essay\n",
    "display(Markdown(f\"**Suggestions and Revised Essay:**\\n\\n{extracted_data['response_without_json']}\"))\n"
   ]
  },
  {
   "cell_type": "code",
   "execution_count": 15,
   "id": "b41e7d41",
   "metadata": {},
   "outputs": [
    {
     "data": {
      "text/html": [
       "\n",
       "    <style>\n",
       "    .improvement-tooltip {\n",
       "        position: relative;\n",
       "        display: inline-block;\n",
       "        cursor: pointer;\n",
       "        background-color: yellow;\n",
       "    }\n",
       "    .improvement-tooltip .tooltiptext {\n",
       "        visibility: hidden;\n",
       "        width: 300px;\n",
       "        background-color: white;\n",
       "        color: black;\n",
       "        text-align: left;\n",
       "        border: 1px solid #ddd;\n",
       "        padding: 10px;\n",
       "        border-radius: 6px;\n",
       "        box-shadow: 0 0 10px rgba(0, 0, 0, 0.1);\n",
       "        position: absolute;\n",
       "        z-index: 1;\n",
       "        top: 100%;\n",
       "        left: 50%;\n",
       "        margin-left: -150px;\n",
       "    }\n",
       "    .improvement-tooltip:hover .tooltiptext {\n",
       "        visibility: visible;\n",
       "    }\n",
       "    </style>\n",
       "    \n",
       "The American Revolution, which occurred from 1775 to 1783, was a pivotal event in history that not only led to the birth of a new nation but also had profound and lasting impacts on modern American society. This essay explores the significance of the American Revolution, examining its influence on contemporary political systems, social structures, and cultural values in the United States.\n",
       "\n",
       "Firstly, the American Revolution laid the foundation for the modern American political system. \n",
       "        <span class=\"improvement-tooltip\">\n",
       "            The revolutionaries' fight for independence was rooted in the desire for self-governance and the rejection of tyrannical rule. This struggle culminated in the drafting of the Declaration of Independence in 1776, which articulated the fundamental principles of liberty, equality, and democracy. These principles became the cornerstone of the United States Constitution, adopted in 1787, which established a federal republic with a system of checks and balances designed to prevent the concentration of power.\n",
       "            <span class=\"tooltiptext\">\n",
       "                <strong>Criterion:</strong> Evidence and Analysis<br>\n",
       "                <strong>Improvement:</strong> Provide more evidence and analysis<br>\n",
       "                <strong>Reason:</strong> The essay provides some evidence and analysis, but it could be more extensive.\n",
       "            </span>\n",
       "        </span>\n",
       "         This struggle culminated in the drafting of the Declaration of Independence in 1776, which articulated the fundamental principles of liberty, equality, and democracy. These principles became the cornerstone of the United States Constitution, adopted in 1787, which established a federal republic with a system of checks and balances designed to prevent the concentration of power. Today, these democratic ideals continue to shape American politics, ensuring that power is derived from the consent of the governed and that individual rights are protected.\n",
       "\n",
       "Moreover, the American Revolution had a profound impact on the social fabric of the nation. The revolution challenged existing social hierarchies and promoted the idea of equality. While the promise of equality was not immediately realized for all groups, the rhetoric of the revolution inspired subsequent movements for social justice. The abolitionist movement, which sought to end slavery, drew upon the revolutionary principles of liberty and equality. Similarly, the women's suffrage movement, which fought for women's right to vote, was influenced by the revolution's emphasis on individual rights. These movements have played a crucial role in shaping a more inclusive and equitable society, reflecting the enduring legacy of the American Revolution.\n",
       "\n",
       "Culturally, the American Revolution fostered a sense of national identity and unity. The shared struggle for independence created a collective memory and a sense of common purpose among the American people. This sense of unity was further reinforced by the creation of national symbols, such as the flag and the national anthem, which continue to evoke patriotic sentiments. Additionally, the revolution gave rise to a distinct American culture that valued individualism, self-reliance, and innovation. These cultural values have profoundly influenced various aspects of American life, including the economy, education, and popular culture, contributing to the country's dynamic and entrepreneurial spirit.\n",
       "\n",
       "\n",
       "        <span class=\"improvement-tooltip\">\n",
       "            In conclusion, the American Revolution was a transformative event that has had a lasting impact on modern American society. It established the foundational principles of American democracy, inspired social movements for equality, and fostered a unique national identity and culture. The legacy of the American Revolution continues to resonate in contemporary America, shaping its political systems, social structures, and cultural values. As Americans reflect on their history, the revolutionary ideals of liberty, equality, and democracy remain guiding principles for the nation's ongoing pursuit of a more just and equitable society.\n",
       "            <span class=\"tooltiptext\">\n",
       "                <strong>Criterion:</strong> Conclusion<br>\n",
       "                <strong>Improvement:</strong> Add more depth to the conclusion<br>\n",
       "                <strong>Reason:</strong> The conclusion is brief and could be more developed.\n",
       "            </span>\n",
       "        </span>\n",
       "         It established the foundational principles of American democracy, inspired social movements for equality, and fostered a unique national identity and culture. The legacy of the American Revolution continues to resonate in contemporary America, shaping its political systems, social structures, and cultural values. As Americans reflect on their history, the revolutionary ideals of liberty, equality, and democracy remain guiding principles for the nation's ongoing pursuit of a more just and equitable society.\n",
       "\n",
       "        <span class=\"improvement-tooltip\">\n",
       "            The American Revolution had a profound and lasting impact on modern American society, shaping its political systems, social structures, and cultural values.\n",
       "            <span class=\"tooltiptext\">\n",
       "                <strong>Criterion:</strong> Argument Development<br>\n",
       "                <strong>Improvement:</strong> Add a clear thesis statement<br>\n",
       "                <strong>Reason:</strong> The essay lacks a clear thesis statement that introduces the main argument.\n",
       "            </span>\n",
       "        </span>\n",
       "        "
      ],
      "text/plain": [
       "<IPython.core.display.HTML object>"
      ]
     },
     "metadata": {},
     "output_type": "display_data"
    }
   ],
   "source": [
    "# Display the Improvements in the New Essay with Hover Effect\n",
    "display_improvements(extracted_data['improvements'], essay_text)\n"
   ]
  }
 ],
 "metadata": {
  "kernelspec": {
   "display_name": "Python 3 (ipykernel)",
   "language": "python",
   "name": "python3"
  },
  "language_info": {
   "codemirror_mode": {
    "name": "ipython",
    "version": 3
   },
   "file_extension": ".py",
   "mimetype": "text/x-python",
   "name": "python",
   "nbconvert_exporter": "python",
   "pygments_lexer": "ipython3",
   "version": "3.11.4"
  }
 },
 "nbformat": 4,
 "nbformat_minor": 5
}

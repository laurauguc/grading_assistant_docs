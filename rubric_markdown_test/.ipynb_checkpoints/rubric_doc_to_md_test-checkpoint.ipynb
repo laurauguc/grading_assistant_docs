{
 "cells": [
  {
   "cell_type": "markdown",
   "id": "b3c25078",
   "metadata": {},
   "source": [
    "# DOCX to Markdown Conversion Script\n",
    "\n",
    "This Jupyter Notebook provides a script to convert a DOCX file into a Markdown file"
   ]
  },
  {
   "cell_type": "code",
   "execution_count": 6,
   "id": "f8199500",
   "metadata": {},
   "outputs": [
    {
     "name": "stdout",
     "output_type": "stream",
     "text": [
      "Requirement already satisfied: python-docx in /Users/laura/Desktop/grading_assistant/venv/lib/python3.9/site-packages (1.1.2)\r\n",
      "Requirement already satisfied: lxml>=3.1.0 in /opt/homebrew/lib/python3.9/site-packages (from python-docx) (5.2.1)\r\n",
      "Requirement already satisfied: typing-extensions>=4.9.0 in /opt/homebrew/lib/python3.9/site-packages (from python-docx) (4.9.0)\r\n"
     ]
    }
   ],
   "source": [
    "# Install the required library\n",
    "!pip install python-docx"
   ]
  },
  {
   "cell_type": "code",
   "execution_count": 4,
   "id": "eb37c28c",
   "metadata": {},
   "outputs": [
    {
     "name": "stdout",
     "output_type": "stream",
     "text": [
      "\u001b[33mDEPRECATION: Configuring installation scheme with distutils config files is deprecated and will no longer work in the near future. If you are using a Homebrew or Linuxbrew Python, please see discussion at https://github.com/Homebrew/homebrew-core/issues/76621\u001b[0m\u001b[33m\n",
      "\u001b[0mRequirement already satisfied: pip in /opt/homebrew/lib/python3.9/site-packages (24.0)\n",
      "Collecting pip\n",
      "  Using cached pip-24.1.1-py3-none-any.whl.metadata (3.6 kB)\n",
      "Using cached pip-24.1.1-py3-none-any.whl (1.8 MB)\n",
      "Installing collected packages: pip\n",
      "  Attempting uninstall: pip\n",
      "    Found existing installation: pip 24.0\n",
      "    Uninstalling pip-24.0:\n",
      "      Successfully uninstalled pip-24.0\n",
      "\u001b[33m  DEPRECATION: Configuring installation scheme with distutils config files is deprecated and will no longer work in the near future. If you are using a Homebrew or Linuxbrew Python, please see discussion at https://github.com/Homebrew/homebrew-core/issues/76621\u001b[0m\u001b[33m\n",
      "\u001b[0m\u001b[33mDEPRECATION: Configuring installation scheme with distutils config files is deprecated and will no longer work in the near future. If you are using a Homebrew or Linuxbrew Python, please see discussion at https://github.com/Homebrew/homebrew-core/issues/76621\u001b[0m\u001b[33m\n",
      "\u001b[0mSuccessfully installed pip-24.1.1\n",
      "Note: you may need to restart the kernel to use updated packages.\n"
     ]
    }
   ],
   "source": [
    "pip install --upgrade pip"
   ]
  },
  {
   "cell_type": "code",
   "execution_count": 7,
   "id": "9800cca4",
   "metadata": {},
   "outputs": [
    {
     "ename": "ModuleNotFoundError",
     "evalue": "No module named 'docx'",
     "output_type": "error",
     "traceback": [
      "\u001b[0;31m---------------------------------------------------------------------------\u001b[0m",
      "\u001b[0;31mModuleNotFoundError\u001b[0m                       Traceback (most recent call last)",
      "\u001b[0;32m/var/folders/r0/7r973sr56n5dr64wkq37dk8r0000gn/T/ipykernel_39885/2065035219.py\u001b[0m in \u001b[0;36m<module>\u001b[0;34m\u001b[0m\n\u001b[1;32m      1\u001b[0m \u001b[0;31m# Import Libraries\u001b[0m\u001b[0;34m\u001b[0m\u001b[0;34m\u001b[0m\u001b[0m\n\u001b[1;32m      2\u001b[0m \u001b[0;34m\u001b[0m\u001b[0m\n\u001b[0;32m----> 3\u001b[0;31m \u001b[0;32mimport\u001b[0m \u001b[0mdocx\u001b[0m\u001b[0;34m\u001b[0m\u001b[0;34m\u001b[0m\u001b[0m\n\u001b[0m\u001b[1;32m      4\u001b[0m \u001b[0;32mimport\u001b[0m \u001b[0mos\u001b[0m\u001b[0;34m\u001b[0m\u001b[0;34m\u001b[0m\u001b[0m\n",
      "\u001b[0;31mModuleNotFoundError\u001b[0m: No module named 'docx'"
     ]
    }
   ],
   "source": [
    "# Import Libraries\n",
    "\n",
    "import docx\n",
    "import os"
   ]
  },
  {
   "cell_type": "code",
   "execution_count": 3,
   "id": "1f65bd63",
   "metadata": {},
   "outputs": [],
   "source": [
    "# Function to read a DOCX file and return a Document object.\n",
    "\n",
    "def read_word_file(file_path):\n",
    "    return docx.Document(file_path)\n"
   ]
  },
  {
   "cell_type": "code",
   "execution_count": 4,
   "id": "f496a681",
   "metadata": {},
   "outputs": [],
   "source": [
    "# Function to convert a DOCX paragraph to a Markdown formatted string\n",
    "\n",
    "def convert_paragraph_to_md(paragraph):\n",
    "    md_text = paragraph.text.strip()\n",
    "    if paragraph.style.name.startswith('Heading'):\n",
    "        level = int(paragraph.style.name.split()[-1])\n",
    "        md_text = f\"{'#' * level} {md_text}\"\n",
    "    elif paragraph.style.name == 'Normal' and md_text:\n",
    "        md_text = f\"{md_text}\\n\"\n",
    "    return md_text\n"
   ]
  },
  {
   "cell_type": "code",
   "execution_count": 5,
   "id": "ed309bed",
   "metadata": {},
   "outputs": [],
   "source": [
    "# Function to convert a DOCX table to a Markdown formatted string\n",
    "\n",
    "def convert_table_to_md(table):\n",
    "    md_lines = []\n",
    "    header = True\n",
    "    for row in table.rows:\n",
    "        row_data = [cell.text.strip() for cell in row.cells]\n",
    "        md_line = '| ' + ' | '.join(row_data) + ' |'\n",
    "        md_lines.append(md_line)\n",
    "        if header:\n",
    "            separator = '| ' + ' | '.join(['---'] * len(row_data)) + ' |'\n",
    "            md_lines.append(separator)\n",
    "            header = False\n",
    "    return md_lines\n"
   ]
  },
  {
   "cell_type": "code",
   "execution_count": 6,
   "id": "d94b8fc5",
   "metadata": {},
   "outputs": [],
   "source": [
    "# Function to convert the content of a DOCX Document object to Markdown format\n",
    "\n",
    "def convert_docx_to_md(doc):\n",
    "    md_lines = []\n",
    "    for element in doc.element.body:\n",
    "        if isinstance(element, docx.oxml.CT_P):\n",
    "            paragraph = docx.text.paragraph.Paragraph(element, doc)\n",
    "            md_line = convert_paragraph_to_md(paragraph)\n",
    "            if md_line:\n",
    "                md_lines.append(md_line)\n",
    "        elif isinstance(element, docx.oxml.CT_Tbl):\n",
    "            table = docx.table.Table(element, doc)\n",
    "            md_table_lines = convert_table_to_md(table)\n",
    "            md_lines.extend(md_table_lines)\n",
    "    return \"\\n\".join(md_lines)\n"
   ]
  },
  {
   "cell_type": "code",
   "execution_count": 7,
   "id": "d695f82e",
   "metadata": {},
   "outputs": [],
   "source": [
    "# Function to save the provided Markdown content to the specified file path\n",
    "\n",
    "def save_md_file(content, file_path):\n",
    "    with open(file_path, 'w') as f:\n",
    "        f.write(content)\n"
   ]
  },
  {
   "cell_type": "code",
   "execution_count": 8,
   "id": "ee582993",
   "metadata": {},
   "outputs": [],
   "source": [
    "# Function to orchestrate the conversion of a DOCX file to Markdown format and save the result to a file\n",
    "\n",
    "def docx_to_md(docx_path, md_path):\n",
    "    doc = read_word_file(docx_path)\n",
    "    md_content = convert_docx_to_md(doc)\n",
    "    save_md_file(md_content, md_path)\n",
    "    print(md_content)  # Print the Markdown content to the console\n"
   ]
  },
  {
   "cell_type": "code",
   "execution_count": 9,
   "id": "af9c3351",
   "metadata": {},
   "outputs": [
    {
     "name": "stdout",
     "output_type": "stream",
     "text": [
      "| Criterion | Excellent (5) | Good (4) | Satisfactory (3) | Needs Improvement (2) | Insufficient (1) |\n",
      "| --- | --- | --- | --- | --- | --- |\n",
      "| Clarity and Coherence of Writing | The writing is clear, well-organized, and coherent, making the argument easy to follow. | The writing is clear and mostly coherent, with a logical flow of ideas | The writing is generally clear and coherent, with some gaps in organization. | The writing is confusing and lacks coherence, making it difficult to follow the argument. | The writing is very confusing, disorganized, and incoherent, making it extremely difficult to follow the argument. |\n",
      "| Depth of Research and Analysis | The student demonstrates thorough and extensive research, integrating a wide range of relevant historical sources and analyzing them critically. | The student shows a good level of research, incorporating relevant historical sources and analyzing them effectively. | The student demonstrates basic research, incorporating some relevant historical sources and analyzing them appropriately | The research effort is superficial, with limited use of historical sources and analysis. | The research effort is extremely superficial, with minimal use of historical sources and analysis. |\n",
      "| Use of Historical Evidence to Support Arguments | The student skillfully uses a variety of historical evidence to support arguments, demonstrating a nuanced understanding of historical context. | The student uses historical evidence effectively to support arguments, showing an understanding of historical context. | The student uses historical evidence to support arguments, but the use is limited or the connection to historical context is unclear. | The use of historical evidence is limited or unclear, not effectively supporting the arguments. | The use of historical evidence is inadequate and does not support the arguments. |\n",
      "| Depth of Reflection on Implications for Current Events | The student’s reflections on the implications of historical origins for current events are insightful and demonstrate a deep understanding of the complexities involved. | The student’s reflections on the implications of historical origins for current events are thoughtful and show a good understanding of the complexities involved. | The student’s reflections on the implications of historical origins for current events are basic and lack depth. | The reflections on the implications for current events are superficial or unclear, lacking depth of understanding. | The reflections on the implications for current events are inadequate and show no understanding. |\n",
      "| Overall Quality of the Essay | The essay is exceptional, demonstrating outstanding understanding, vision, and critical thinking. | The essay is good, demonstrating solid understanding, vision, and critical thinking. | The essay is satisfactory, demonstrating basic understanding, vision, and critical thinking. | The essay is weak, demonstrating limited understanding, vision, and critical thinking. | The essay is very weak, demonstrating minimal understanding, vision, and critical thinking |\n"
     ]
    }
   ],
   "source": [
    "'''\n",
    "Entry point for the DOCX to Markdown conversion script\n",
    "Orchestrates the process by using functions from other cells to read, convert, and save the content.\n",
    "'''\n",
    "\n",
    "def main():\n",
    "    # Since the script is in the rubric_markdown_test directory, the paths are relative to this directory\n",
    "    docx_file_name = \"us_history_rubric_test.docx\"\n",
    "    md_file_name = \"us_history_rubric_test.md\"\n",
    "\n",
    "    # Construct paths relative to the current directory where the script is located\n",
    "    docx_path = os.path.join(os.getcwd(), docx_file_name)\n",
    "    md_path = os.path.join(os.getcwd(), md_file_name)\n",
    "\n",
    "    # Check if the document path exists\n",
    "    if not os.path.exists(docx_path):\n",
    "        raise FileNotFoundError(f\"The file {docx_path} does not exist.\")\n",
    "\n",
    "    docx_to_md(docx_path, md_path)\n",
    "\n",
    "if __name__ == \"__main__\":\n",
    "    main()\n"
   ]
  }
 ],
 "metadata": {
  "kernelspec": {
   "display_name": "Python 3 (ipykernel)",
   "language": "python",
   "name": "python3"
  },
  "language_info": {
   "codemirror_mode": {
    "name": "ipython",
    "version": 3
   },
   "file_extension": ".py",
   "mimetype": "text/x-python",
   "name": "python",
   "nbconvert_exporter": "python",
   "pygments_lexer": "ipython3",
   "version": "3.9.15"
  }
 },
 "nbformat": 4,
 "nbformat_minor": 5
}
